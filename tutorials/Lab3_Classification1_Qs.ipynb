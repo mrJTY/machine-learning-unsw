{
 "cells": [
  {
   "cell_type": "markdown",
   "metadata": {},
   "source": [
    "# Classification (1) – an issue with distance measures, and an implementation of Nearest Neighbour classification"
   ]
  },
  {
   "cell_type": "markdown",
   "metadata": {},
   "source": [
    "## Introduction"
   ]
  },
  {
   "cell_type": "markdown",
   "metadata": {},
   "source": [
    "In this notebook we will expand on some of the concepts of \n",
    "classification, starting with an experiment with distance measures on data, then looking into the $k$-Nearest Neighbour algorithm. \n",
    "\n",
    "http://www.cse.unsw.edu.au/~cs9417/19T2/week03/week03.html"
   ]
  },
  {
   "cell_type": "markdown",
   "metadata": {},
   "source": [
    "## 1) Distance measures for high-dimensionality data\n",
    "\n",
    "Algorithms such as $k$-Nearest Neighbour are conceptually very simple -- we predict the class value of an unlabelled *query* data point we are given by looking at all the labelled data point(s) in our data set, and predicting that our query will have the same class as the most similar data point(s) in the training set. So, all we need is a way of measuring similarity. The well-known *Euclidean distance measure* would seem to be a good choice. However, while we are very familiar with Euclidean distance in 2 and 3-dimensions, there was a warning (Slide 62 of the \"Classification (1)\" lecture) that in high-dimensions there is a problem – what was this problem ? "
   ]
  },
  {
   "cell_type": "markdown",
   "metadata": {},
   "source": [
    "### Pairwise distances in high-dimensional spaces \n",
    "\n",
    "**Answer**: in high-dimensional spaces everything is far away from everything else, and so pairwise distances become uninformative."
   ]
  },
  {
   "cell_type": "markdown",
   "metadata": {},
   "source": [
    "But what does this actually mean ? There is a mathematical argument to show that this is a true statement, but an alternative approach is simply to simulate what happens. One approach is to randomly generate $N$ points inside a $d$-dimensional cube centred around zero, such as $[-0.5, 0.5]^{d}$. Now we calculate the pairwise distances among the $N$ points.  After that for every data point we calculate the ratio of the minimum distance to the maximum distance  to all of the other data points. The mean ratio represents the average range of pairwise distances there are in that dimensionality. We run the simulation from 1 dimension to 1000 dimensions and the ratios will be plotted on a line chart using the ``` matplotlib ``` library. \n",
    "\n",
    "You should use the ```numpy``` library for this, and in particular the linear algebra methods to calculate distances such as the [L2 norm](https://docs.scipy.org/doc/numpy-1.13.0/reference/generated/numpy.linalg.norm.html#numpy.linalg.norm). "
   ]
  },
  {
   "cell_type": "code",
   "execution_count": 1,
   "metadata": {},
   "outputs": [
    {
     "data": {
      "image/png": "[encoded data removed]",
      "text/plain": [
       "<matplotlib.figure.Figure at 0x113b08438>"
      ]
     },
     "metadata": {},
     "output_type": "display_data"
    }
   ],
   "source": [
    "%matplotlib inline\n",
    "import numpy as np\n",
    "import matplotlib.pyplot as plt\n",
    "\n",
    "def run_d_n(dim,N_pts,L):\n",
    "    pts=np.random.rand(N_pts,dim)-0.5 # simulate N_pts points on dim dimensions space\n",
    "    ratio_list=[]\n",
    "    for i in range(N_pts):\n",
    "        # ignore the data point itself\n",
    "        selected_pts=np.array([j for j in range(N_pts) if j!=i])\n",
    "        # calculate the L2 or L1 distance with other points\n",
    "        dist=np.linalg.norm(pts[selected_pts]-pts[i],L,axis=1)\n",
    "        # calculate the ratio of the min. distance to the max. distance\n",
    "        ratio=np.min(dist)/np.max(dist)\n",
    "        ratio_list.append(ratio)\n",
    "    # output the mean ratio\n",
    "    return np.mean(ratio_list)\n",
    "\n",
    "# Initialise the N_pts, the number of points we simulate\n",
    "N_pts=1000\n",
    "# Setting l=2 to calculate the L2 distance\n",
    "l=1\n",
    "# Setting the number of dimensions we simulate\n",
    "check_dim=range(1,550,50)\n",
    "# Calculate the mean ratio on that dimension\n",
    "ratio_list=[ run_d_n(dim,N_pts,l) for dim in check_dim]\n",
    "# Plot the ratio with its corresponding dimension\n",
    "plt.plot(check_dim,ratio_list)\n",
    "plt.ylabel(\"Mean ratio of min/max pairwise distances\")\n",
    "plt.xlabel(\"Number of dimensions\")\n",
    "plt.title(\"Effect of increasing dimensionality on pairwise distances\")\n",
    "plt.xticks(np.arange(0, 600, step=100))\n",
    "plt.show()"
   ]
  },
  {
   "cell_type": "markdown",
   "metadata": {},
   "source": [
    "**Question:** how can this plot be interpreted ? How else could you visualize this effect ?"
   ]
  },
  {
   "cell_type": "markdown",
   "metadata": {
    "collapsed": true
   },
   "source": [
    "\n",
    "* Curse of dimensionality\n",
    "* The more dimensions we add, the min and max ratio ~ close to 1\n",
    "* The min and and max are similar to each other"
   ]
  },
  {
   "cell_type": "markdown",
   "metadata": {},
   "source": [
    "## 2) Implement Nearest Neighbour from scratch\n",
    "\n",
    "The following will give some practise in implementing a simple classifier, the $k$-Nearest Neighbour ($k$NN) algorithm. It should help us to write a $k$NN package from scratch. Most machine learning methods include two main steps, namely training (fitting to a model to the training data) and prediction (running the model on input data  to generate output). However, in the $k$NN algorithm, since there is no explicit model-building step, we only require implementation of the prediction step without a training step."
   ]
  },
  {
   "cell_type": "code",
   "execution_count": 3,
   "metadata": {
    "collapsed": true
   },
   "outputs": [],
   "source": [
    "%matplotlib inline\n",
    "import numpy as np\n",
    "import matplotlib.pyplot as plt"
   ]
  },
  {
   "cell_type": "markdown",
   "metadata": {},
   "source": [
    "## Data Creation"
   ]
  },
  {
   "cell_type": "code",
   "execution_count": 4,
   "metadata": {},
   "outputs": [
    {
     "name": "stdout",
     "output_type": "stream",
     "text": [
      "(500, 2) (500, 2)\n"
     ]
    }
   ],
   "source": [
    "mean_01 = np.array([1, 0.5])\n",
    "cov_01 = np.array([[1, 0.1], [0.1, 1.2]])\n",
    "\n",
    "mean_02 = np.array([4, 5])\n",
    "cov_02 = np.array([[1, 0.1], [0.1, 1.2]])\n",
    "\n",
    "dist_01 = np.random.multivariate_normal(mean_01, cov_01, 500)\n",
    "dist_02 = np.random.multivariate_normal(mean_02, cov_02, 500)\n",
    "print(dist_01.shape, dist_02.shape)"
   ]
  },
  {
   "cell_type": "code",
   "execution_count": 8,
   "metadata": {},
   "outputs": [
    {
     "name": "stdout",
     "output_type": "stream",
     "text": [
      "[1.  0.5]\n",
      "\n",
      "This is the correlation matrix\n",
      "[[1.  0.1]\n",
      " [0.1 1.2]]\n",
      "\n",
      "The correlation (diagonal 0.1, 0.1) between x and y is small\n"
     ]
    }
   ],
   "source": [
    "print(mean_01)\n",
    "print(\"\")\n",
    "print(\"This is the correlation matrix\")\n",
    "print(cov_01)\n",
    "print(\"\")\n",
    "print(\"The correlation (diagonal 0.1, 0.1) between x and y is small\")"
   ]
  },
  {
   "cell_type": "markdown",
   "metadata": {},
   "source": [
    "We have created two 2-dimensional normal distributions of data points with the same covariance but different means."
   ]
  },
  {
   "cell_type": "code",
   "execution_count": 9,
   "metadata": {},
   "outputs": [
    {
     "name": "stdout",
     "output_type": "stream",
     "text": [
      "[[ 2.02351141e+00  4.36970462e-01]\n",
      " [ 1.95460595e+00  1.77503788e+00]\n",
      " [ 2.47753633e+00  4.28178977e-01]\n",
      " [ 1.41157668e+00 -1.54003365e+00]\n",
      " [ 9.70717667e-01  4.87560639e-01]\n",
      " [-2.25095816e-01  6.55476861e-01]\n",
      " [ 1.05764303e+00 -5.49158036e-01]\n",
      " [ 4.48871134e-01  1.60193276e+00]\n",
      " [-3.33850664e-01 -3.60144285e-01]\n",
      " [ 1.13110841e+00 -5.96417191e-02]\n",
      " [ 3.09596496e+00  1.33212507e+00]\n",
      " [ 1.43864506e+00  5.18300696e-01]\n",
      " [ 1.75815182e-02 -3.75379162e-01]\n",
      " [ 1.38298613e-01  1.39650862e+00]\n",
      " [ 6.38415575e-01 -1.20933882e+00]\n",
      " [ 1.51290523e+00  1.93421941e+00]\n",
      " [ 3.67937117e+00  7.65693942e-01]\n",
      " [ 1.19756672e+00  1.94968321e+00]\n",
      " [ 1.67985015e+00  8.86099309e-01]\n",
      " [ 3.92045551e-01 -2.62513142e-01]\n",
      " [ 2.41838364e+00  1.08621481e+00]\n",
      " [ 8.76558751e-01  2.50575528e-01]\n",
      " [ 1.47894887e+00  2.54186105e+00]\n",
      " [ 2.79698057e+00  1.50138655e+00]\n",
      " [ 1.12046167e+00  8.58972502e-01]\n",
      " [ 3.10342440e-01 -6.00677584e-01]\n",
      " [ 1.77499750e+00  5.59508025e-01]\n",
      " [ 1.26554510e+00  7.48652739e-01]\n",
      " [ 2.92338054e+00 -7.38915253e-01]\n",
      " [ 1.99706459e+00  6.53610906e-01]\n",
      " [-1.14785034e+00  1.36142304e-01]\n",
      " [ 1.97545143e+00  6.89366481e-01]\n",
      " [-1.73997650e+00 -3.08995635e+00]\n",
      " [-2.77929243e-01  1.16540284e+00]\n",
      " [ 1.19081757e+00  1.16370092e+00]\n",
      " [ 1.69689036e+00  5.03407385e-01]\n",
      " [ 1.40122660e+00  5.40801582e-01]\n",
      " [ 1.78383621e+00  1.84335650e+00]\n",
      " [ 1.43539400e+00  1.17599134e+00]\n",
      " [-9.06175139e-01  3.59455732e-01]\n",
      " [ 2.57019201e+00  1.81811112e-01]\n",
      " [ 1.86940823e+00  5.30573606e-01]\n",
      " [ 1.26241279e-01 -1.94278431e+00]\n",
      " [-4.25816928e-01 -3.01036915e-01]\n",
      " [ 3.39652123e-01 -1.09055195e-01]\n",
      " [ 3.99118418e-01  2.72433533e-01]\n",
      " [ 6.24983300e-01  1.58546425e+00]\n",
      " [ 1.99397442e-01  5.68804040e-01]\n",
      " [ 2.97549802e+00 -5.12172316e-01]\n",
      " [ 7.60595873e-01  5.94842268e-01]\n",
      " [ 1.38325956e+00  8.21148803e-01]\n",
      " [ 1.29982437e+00  2.83124762e+00]\n",
      " [ 9.94593616e-01 -2.66846751e+00]\n",
      " [ 1.69697486e+00  6.33759698e-01]\n",
      " [ 1.06415838e+00 -3.70964165e-01]\n",
      " [ 1.29412418e+00  7.12564918e-02]\n",
      " [ 1.34839352e+00  1.58714523e+00]\n",
      " [ 2.05703578e+00  4.39338042e-01]\n",
      " [ 2.13258988e+00  1.03743819e+00]\n",
      " [ 1.19259596e+00  1.99032784e+00]\n",
      " [ 2.47358732e+00  9.81858661e-01]\n",
      " [-4.69812657e-01  3.47374573e-01]\n",
      " [ 1.39431902e+00 -9.19542313e-01]\n",
      " [ 2.13249765e+00  7.37448808e-01]\n",
      " [ 1.06438923e+00  9.84290542e-01]\n",
      " [ 1.33616613e+00  1.84158914e+00]\n",
      " [ 2.11849503e+00  4.68794324e-01]\n",
      " [ 5.88344433e-01  1.14589669e+00]\n",
      " [-8.81638526e-01  1.39365931e+00]\n",
      " [ 1.26535902e+00  2.16740439e+00]\n",
      " [-1.88016287e-01  8.82756977e-02]\n",
      " [ 3.55711256e-01  1.79577417e+00]\n",
      " [ 2.08899272e+00  1.27069722e+00]\n",
      " [ 3.82753036e-01  4.00413808e-01]\n",
      " [ 1.68851659e+00  8.46491736e-01]\n",
      " [ 2.50292577e+00  1.47423696e+00]\n",
      " [ 1.13618096e+00 -7.95710657e-01]\n",
      " [ 3.08178763e-01  9.00137070e-01]\n",
      " [ 1.71758412e+00  5.68591538e-01]\n",
      " [-4.01549492e-02  5.36518343e-01]\n",
      " [ 1.90183679e+00  1.40727992e+00]\n",
      " [ 2.26788901e+00 -1.82538167e+00]\n",
      " [ 2.57062375e+00  1.35530561e-01]\n",
      " [ 1.98523307e+00  9.38226585e-03]\n",
      " [ 5.99711922e-01  1.17558301e+00]\n",
      " [ 2.18434172e+00  1.18222838e+00]\n",
      " [ 1.03543757e+00  1.00117375e+00]\n",
      " [ 2.96365689e+00  5.88778701e-01]\n",
      " [ 7.50892962e-01 -1.96632646e-01]\n",
      " [ 2.23307206e+00 -4.55810930e-01]\n",
      " [ 1.69225175e+00  1.72767042e+00]\n",
      " [ 1.72398585e+00  9.31411820e-01]\n",
      " [ 7.43813480e-01  8.86915547e-01]\n",
      " [-1.36468075e+00  9.42710660e-01]\n",
      " [ 1.63462741e+00 -3.79069400e-02]\n",
      " [ 2.16744139e-01 -4.93364400e-01]\n",
      " [ 5.54469108e-01  1.48779343e+00]\n",
      " [ 3.95616655e-01  2.41054416e+00]\n",
      " [ 3.44343346e-01 -1.17508694e+00]\n",
      " [-1.60666351e-01  1.83587547e+00]\n",
      " [ 1.09752244e+00  8.30463846e-01]\n",
      " [ 8.21365741e-01  6.11818970e-01]\n",
      " [ 2.05612390e+00  1.45811019e+00]\n",
      " [ 1.59748417e+00  6.97012085e-01]\n",
      " [ 4.37342254e-02 -4.70315928e-01]\n",
      " [ 5.11745867e-01  9.18183390e-01]\n",
      " [ 5.91757878e-01 -6.03943507e-02]\n",
      " [ 8.73080258e-01  4.44511621e-01]\n",
      " [-3.05235758e-01 -1.10054661e+00]\n",
      " [-7.56925672e-02  1.30433880e-01]\n",
      " [ 1.84936316e+00  2.28093956e-01]\n",
      " [-7.40337571e-01  1.95270389e+00]\n",
      " [-1.94632376e-01 -8.34864900e-01]\n",
      " [ 1.03749535e+00 -7.59447955e-01]\n",
      " [ 1.78729573e+00  4.66779012e-01]\n",
      " [-4.03302598e-02 -6.52474067e-02]\n",
      " [ 7.74486101e-01  1.23995773e+00]\n",
      " [ 2.33096820e+00  2.40490738e-02]\n",
      " [ 1.83101211e+00 -2.05072805e-01]\n",
      " [ 7.91215967e-01  9.53733732e-01]\n",
      " [ 1.84466520e+00 -6.19658856e-01]\n",
      " [ 2.37027232e-01  9.05015404e-01]\n",
      " [ 1.68489275e+00  1.43685398e+00]\n",
      " [ 1.41189766e+00  4.23550659e-01]\n",
      " [ 1.40907019e+00 -2.07460176e-01]\n",
      " [ 2.22200493e-01  1.53905171e-01]\n",
      " [ 1.44796211e+00 -7.96920869e-01]\n",
      " [ 3.02353076e+00  1.73056400e+00]\n",
      " [ 5.61707211e-01  5.76703656e-01]\n",
      " [ 6.62558828e-01  4.29802870e-01]\n",
      " [ 2.22414976e+00  1.71204975e+00]\n",
      " [ 1.11871322e+00  4.89140866e-01]\n",
      " [-2.73487343e-01  9.17767346e-01]\n",
      " [ 1.05171759e+00  4.92639544e-01]\n",
      " [ 1.61868417e+00  1.46957570e+00]\n",
      " [ 8.49983026e-01  5.05462411e-01]\n",
      " [ 1.26531609e+00  1.77331006e+00]\n",
      " [ 3.34101984e+00  1.00965411e+00]\n",
      " [ 3.76325286e-01 -9.35154135e-01]\n",
      " [ 1.49993155e+00  2.14615516e+00]\n",
      " [ 1.05071628e+00  5.38626736e-01]\n",
      " [ 1.62830099e+00 -1.19657697e-01]\n",
      " [ 1.50111290e+00  5.77204527e-01]\n",
      " [ 2.13119153e+00  4.81925329e-01]\n",
      " [ 2.18367864e+00  1.54163945e+00]\n",
      " [ 1.10911473e+00  1.57088091e+00]\n",
      " [ 5.33807475e-01  2.90723952e+00]\n",
      " [ 8.30072342e-01  7.20728488e-01]\n",
      " [-1.23203155e+00  6.84338804e-01]\n",
      " [ 1.35977377e+00  9.07317038e-01]\n",
      " [ 2.52860782e+00  2.83558771e-01]\n",
      " [ 4.71082209e-01  5.91855305e-01]\n",
      " [ 1.57885909e+00 -7.29994558e-01]\n",
      " [-4.05945547e-02  3.10124912e+00]\n",
      " [ 5.65122903e-01  2.75512574e+00]\n",
      " [ 9.39945872e-01 -1.20645794e+00]\n",
      " [ 1.18195961e+00 -1.20308234e+00]\n",
      " [ 2.25280367e-01  1.27478732e+00]\n",
      " [ 1.09892905e+00  1.53797382e+00]\n",
      " [ 1.81693921e+00 -1.14452539e+00]\n",
      " [-5.34940039e-01  8.64041783e-01]\n",
      " [ 2.52712617e+00  7.42248128e-01]\n",
      " [-1.44097765e-01  2.05867480e-01]\n",
      " [ 1.51178203e+00  1.42139443e+00]\n",
      " [ 2.72089890e+00  1.41159852e+00]\n",
      " [ 7.27127262e-01  1.26448007e+00]\n",
      " [-5.99662790e-01  3.23191444e-02]\n",
      " [ 3.23219771e+00  5.76214598e-01]\n",
      " [ 1.54968747e+00  1.10143576e+00]\n",
      " [ 1.41812316e+00  8.48687276e-01]\n",
      " [ 2.22411479e-01  9.21402383e-01]\n",
      " [ 2.47874139e+00 -1.93199057e+00]\n",
      " [ 2.57029718e+00  2.27356146e+00]\n",
      " [ 1.65433707e+00 -7.25473965e-01]\n",
      " [-1.62573058e+00  5.56822938e-02]\n",
      " [-1.15773948e-01 -1.22950529e+00]\n",
      " [ 2.28025244e+00  1.54269237e+00]\n",
      " [ 1.65935858e+00 -1.30308007e+00]\n",
      " [ 1.06412465e+00 -3.31504857e-01]\n",
      " [ 1.11027914e+00  1.50068577e+00]\n",
      " [ 1.27932894e+00  2.90497835e-01]\n",
      " [ 1.83049753e+00  3.58746885e-01]\n",
      " [ 1.54019257e+00 -8.68010122e-01]\n",
      " [ 1.15301233e+00  7.54342266e-02]\n",
      " [ 2.47400895e+00 -6.07142463e-01]\n",
      " [ 1.60716708e+00  1.69086172e+00]\n",
      " [ 2.00456754e+00  5.12711811e-01]\n",
      " [ 1.32039523e+00 -1.18292236e+00]\n",
      " [ 1.56008983e+00 -6.15159724e-01]\n",
      " [-2.15606454e-01  1.03730104e+00]\n",
      " [ 1.17843069e+00  1.82280052e+00]\n",
      " [ 2.18602292e+00  1.44776978e+00]\n",
      " [ 9.51346269e-01  4.71937581e-01]\n",
      " [ 2.17459255e+00  1.38295700e+00]\n",
      " [ 1.55111737e+00  3.34102732e-01]\n",
      " [ 1.46431496e+00 -4.39193504e-03]\n",
      " [ 3.20590648e+00  1.97941106e-01]\n",
      " [ 2.42353039e-01  1.64914501e+00]\n",
      " [ 1.54888291e+00  7.15675539e-01]\n",
      " [ 1.48378811e+00  1.71726523e+00]\n",
      " [ 1.14565257e+00 -1.57502071e+00]\n",
      " [ 7.96432933e-01 -1.32754420e+00]\n",
      " [ 3.88987537e-01  1.46267965e+00]\n",
      " [ 1.17431151e+00 -2.33230449e-01]\n",
      " [-7.39223207e-01  3.13616069e-02]\n",
      " [-2.33091839e-01  5.44865149e-01]\n",
      " [ 1.49433919e+00  1.47532423e+00]\n",
      " [ 1.88354972e+00  6.01696724e-01]\n",
      " [ 4.41489024e-01  2.47430235e-01]\n",
      " [ 5.75406579e-01  7.93422719e-01]\n",
      " [-2.36020876e-01 -9.99449798e-01]\n",
      " [ 2.27900771e+00 -1.30714236e+00]\n",
      " [-1.26093765e-01  2.07613470e+00]\n",
      " [ 1.96665337e+00 -1.96347658e-01]\n",
      " [ 6.69289306e-01  3.95702909e-01]\n",
      " [ 7.51753451e-01  4.93024895e-01]\n",
      " [-1.62232567e-02 -2.08093377e+00]\n",
      " [ 2.66374657e+00  2.20868822e+00]\n",
      " [ 1.21352598e-01 -9.40332292e-01]\n",
      " [-7.80137772e-01  5.85390275e-01]\n",
      " [ 2.60428359e-01  3.98759399e-01]\n",
      " [-3.93519067e-01  1.34120624e+00]\n",
      " [ 2.08437830e+00 -1.45889664e+00]\n",
      " [ 6.75779146e-01  7.71983265e-01]\n",
      " [-2.30424567e-01  1.80680797e-01]\n",
      " [-1.15549586e+00  1.63734342e+00]\n",
      " [ 1.55214782e+00 -3.54452016e-01]\n",
      " [ 1.69542451e+00  2.42921758e+00]\n",
      " [ 2.82365049e+00  1.27036806e+00]\n",
      " [ 1.35637426e+00  2.18592411e-01]\n",
      " [ 1.14765304e+00 -3.60115419e-01]\n",
      " [ 7.14550448e-01 -9.87709988e-01]\n",
      " [ 2.14233039e+00  3.79707237e-01]\n",
      " [ 2.17781243e-01  9.33251967e-01]\n",
      " [-5.16219102e-01  1.06519324e+00]\n",
      " [ 8.20229834e-01  1.05223089e+00]\n",
      " [ 8.94455936e-01  4.06335214e-01]\n",
      " [ 3.39497211e+00  3.66314350e-01]\n",
      " [ 1.88370746e-01  1.32676512e+00]\n",
      " [ 2.18534774e+00  6.45494041e-01]\n",
      " [ 2.26413338e-02 -4.58826795e-01]\n",
      " [-2.24266823e-01 -5.56930822e-01]\n",
      " [-7.44368143e-02 -5.02694328e-01]\n",
      " [ 1.81804274e+00 -1.25095678e-01]\n",
      " [ 9.85644353e-01  1.02908061e+00]\n",
      " [ 1.78650940e+00  1.20565936e+00]\n",
      " [ 6.20677782e-01 -1.19160409e-01]\n",
      " [ 2.61638274e+00  1.34010416e+00]\n",
      " [ 2.66975481e+00 -1.89916762e+00]\n",
      " [ 1.14041205e+00  1.83982488e+00]\n",
      " [-9.09772383e-01 -3.94957665e-01]\n",
      " [ 3.66114149e-01  1.09818394e+00]\n",
      " [ 1.91382881e+00  5.84580089e-01]\n",
      " [ 2.52933844e+00 -4.93651090e-01]\n",
      " [-9.80600505e-02  3.52900687e+00]\n",
      " [ 1.29593528e+00  1.51724288e+00]\n",
      " [ 1.25083866e+00  6.97280833e-02]\n",
      " [ 2.83952396e+00 -3.12592294e-01]\n",
      " [ 5.74188518e-01  1.43700581e+00]\n",
      " [ 7.35413735e-01  1.22807964e+00]\n",
      " [ 9.14088849e-01  1.90438911e-01]\n",
      " [ 3.93430350e-01  2.70693995e+00]\n",
      " [-1.53705071e-01 -1.76726039e+00]\n",
      " [ 5.36921707e-01  3.48548632e+00]\n",
      " [ 2.78767799e+00  8.99050864e-02]\n",
      " [ 1.85127579e+00  1.58689830e+00]\n",
      " [ 4.28898907e-01  6.68754259e-01]\n",
      " [ 4.94004053e-01  9.70178949e-01]\n",
      " [-4.14728040e-01 -1.74149079e+00]\n",
      " [ 2.39882716e+00  2.78339509e-01]\n",
      " [ 2.19548418e+00  2.14230389e+00]\n",
      " [ 1.18737177e+00 -1.26146505e+00]\n",
      " [ 4.00520725e-01  1.40281086e+00]\n",
      " [ 9.77419339e-01  1.48110197e+00]\n",
      " [ 1.76779193e+00  1.94624817e+00]\n",
      " [ 1.81135804e+00  1.34864845e+00]\n",
      " [ 7.70334276e-02 -1.65042622e-01]\n",
      " [ 2.13908388e+00  9.19605530e-01]\n",
      " [ 2.45055737e+00 -9.61653988e-01]\n",
      " [ 4.07489639e-02  2.87661456e+00]\n",
      " [ 7.39030942e-01 -2.01332142e+00]\n",
      " [ 5.97161739e-01  1.02538551e+00]\n",
      " [ 8.48881921e-01 -1.20615206e-01]\n",
      " [ 2.11346861e-01 -9.34982707e-01]\n",
      " [ 7.11507853e-01  3.00019642e+00]\n",
      " [ 2.33925197e+00  2.03963604e+00]\n",
      " [ 2.44950939e-01  8.07868179e-01]\n",
      " [ 1.47316581e+00  9.83610089e-01]\n",
      " [ 8.71165318e-01  8.48055908e-01]\n",
      " [ 1.92634666e+00  1.43146303e+00]\n",
      " [-1.05301492e+00  4.09205023e-01]\n",
      " [ 9.09970146e-01  2.95608853e+00]\n",
      " [ 2.63921660e+00  8.73861680e-01]\n",
      " [ 9.60792422e-01  1.06528805e+00]\n",
      " [ 1.15519894e+00  1.47181819e+00]\n",
      " [ 2.35852327e-01  4.24534432e+00]\n",
      " [ 1.09613193e+00  4.07891880e-01]\n",
      " [ 8.55216098e-01 -2.17950543e+00]\n",
      " [ 1.43301166e+00  2.81426159e-01]\n",
      " [ 1.54993873e+00 -7.80425379e-02]\n",
      " [ 3.73548486e-01 -2.83612985e-01]\n",
      " [ 2.07702083e+00  2.32806104e+00]\n",
      " [ 1.57100318e+00  2.02087744e+00]\n",
      " [ 2.07371547e+00  1.57428332e+00]\n",
      " [-1.02852733e+00  1.40627283e+00]\n",
      " [ 1.30280500e+00 -1.00252045e+00]\n",
      " [ 1.57586211e+00  2.37202145e+00]\n",
      " [ 2.09967984e-01  2.14580955e-01]\n",
      " [ 1.22919086e+00  1.26342727e+00]\n",
      " [ 1.90505180e+00  1.30001941e+00]\n",
      " [ 1.62419616e+00  8.83259361e-01]\n",
      " [ 1.16395738e+00  4.81885327e-01]\n",
      " [ 2.42879541e+00  8.06356989e-01]\n",
      " [ 8.38826712e-01  5.12643448e-01]\n",
      " [-2.71435357e-01 -2.43309032e-01]\n",
      " [ 1.66172357e+00  1.48253372e-01]\n",
      " [-1.19614407e+00 -7.73341909e-01]\n",
      " [ 1.63029536e+00  1.58342416e+00]\n",
      " [ 1.16427626e+00 -3.70699808e-01]\n",
      " [ 1.14523486e+00  2.32199547e-01]\n",
      " [ 9.89415304e-01  2.84950002e-01]\n",
      " [ 6.45553513e-01 -8.07392261e-01]\n",
      " [ 6.62472786e-01  8.09011811e-01]\n",
      " [ 2.83280777e+00 -3.08618186e-01]\n",
      " [ 9.91907968e-01 -9.12915251e-01]\n",
      " [ 1.90690347e-01  2.44028699e-01]\n",
      " [ 3.04662626e-01 -6.21253252e-01]\n",
      " [ 1.20216652e+00  1.77108352e+00]\n",
      " [ 2.45918947e+00  2.16719761e+00]\n",
      " [ 5.73020684e-01 -1.42422507e+00]\n",
      " [ 1.65904500e+00  3.02154209e-01]\n",
      " [ 3.15149177e+00 -6.41570666e-01]\n",
      " [ 6.67689132e-02 -5.97255080e-01]\n",
      " [-6.55807785e-01  4.04220307e-02]\n",
      " [ 3.22076957e+00  1.02563493e+00]\n",
      " [ 4.81051846e-01 -6.53715529e-01]\n",
      " [ 1.12210654e+00  2.34311193e-01]\n",
      " [-5.64825688e-02 -1.03683132e-02]\n",
      " [ 1.53277237e+00 -5.23554657e-01]\n",
      " [ 5.40263902e-02  6.58018867e-02]\n",
      " [-4.60460107e-01  9.19707296e-01]\n",
      " [-5.39294211e-02  1.83344713e+00]\n",
      " [ 8.68009035e-01  6.78850424e-01]\n",
      " [ 7.94329355e-01 -1.39195860e+00]\n",
      " [ 2.31158269e+00  2.15125130e+00]\n",
      " [ 2.92964762e+00  1.76926690e+00]\n",
      " [ 1.80106901e-01 -2.63170716e+00]\n",
      " [-1.42296129e-01  1.45392498e+00]\n",
      " [ 1.49755888e+00  2.11476267e+00]\n",
      " [ 6.36475260e-01 -6.48465741e-01]\n",
      " [ 7.58297499e-01  1.42394245e+00]\n",
      " [-6.53568124e-01  3.28809144e+00]\n",
      " [-1.06243767e+00  6.93781276e-02]\n",
      " [ 2.46809678e-01  1.79569805e-01]\n",
      " [ 2.23538762e+00  4.18266402e-01]\n",
      " [ 2.28652935e-01 -5.78551306e-02]\n",
      " [-2.29788134e-01  2.99689200e-01]\n",
      " [-1.41394423e+00  1.09347658e+00]\n",
      " [ 1.25819039e+00  8.87295245e-01]\n",
      " [-2.34336794e-02  9.24474869e-01]\n",
      " [ 1.16099351e+00  2.17439344e+00]\n",
      " [ 1.15684361e+00  1.47844367e+00]\n",
      " [ 6.14087643e-02  1.01317772e+00]\n",
      " [ 1.59443506e+00 -1.44091446e+00]\n",
      " [ 8.21150924e-01  2.91262374e-01]\n",
      " [ 9.01848951e-01 -1.03902448e+00]\n",
      " [ 2.67280531e+00  5.12727222e-01]\n",
      " [ 4.96905575e-01 -3.99154633e-02]\n",
      " [ 1.20615098e+00  1.19688582e+00]\n",
      " [ 7.89016068e-01  1.72288250e+00]\n",
      " [ 3.78737137e-01  6.82762547e-01]\n",
      " [ 8.10029652e-01  7.15729651e-01]\n",
      " [ 1.42545644e+00  9.40366109e-01]\n",
      " [-6.07402771e-02  1.68444438e+00]\n",
      " [ 1.62700191e+00 -6.22971663e-02]\n",
      " [ 1.96839839e+00  8.88768430e-01]\n",
      " [ 2.08830981e+00 -3.78560218e-01]\n",
      " [ 2.51738720e+00 -2.03225823e+00]\n",
      " [ 1.47431794e-01  1.86494253e+00]\n",
      " [ 2.14103817e+00 -1.50015334e-01]\n",
      " [ 9.39034990e-01 -1.52599899e+00]\n",
      " [ 5.95925316e-01 -4.36190890e-01]\n",
      " [ 6.97936175e-01  4.62240917e-01]\n",
      " [ 2.76696533e+00  2.23026177e+00]\n",
      " [ 1.47572354e+00  1.19967296e+00]\n",
      " [-1.32283065e+00  1.42059946e+00]\n",
      " [ 3.28496380e-01 -2.08329996e+00]\n",
      " [-1.01548499e+00 -4.29164399e-01]\n",
      " [ 1.57009420e+00 -9.66385839e-01]\n",
      " [ 7.23166710e-01  5.10811192e-01]\n",
      " [ 4.23493329e-01 -8.20357556e-01]\n",
      " [ 2.95463065e+00 -4.46633961e-01]\n",
      " [ 2.34835993e+00 -8.04308255e-01]\n",
      " [ 1.88035237e+00  6.58245169e-01]\n",
      " [ 4.81830984e-01  7.91124129e-02]\n",
      " [ 7.60194456e-01 -6.59655614e-01]\n",
      " [ 1.18293514e+00  9.60374310e-01]\n",
      " [ 4.29694588e-01  9.97307491e-01]\n",
      " [ 2.51799506e+00  2.65962646e-01]\n",
      " [-5.91331612e-01  1.63242081e-02]\n",
      " [ 7.83684043e-01  1.46448200e+00]\n",
      " [ 7.97891955e-01  1.84672180e+00]\n",
      " [ 2.01033882e+00  3.08960113e-01]\n",
      " [ 2.57761639e+00  1.71692104e+00]\n",
      " [ 7.55778794e-01  1.67178321e+00]\n",
      " [ 2.35982334e-02 -6.27391698e-02]\n",
      " [ 9.30686908e-01  7.92446114e-01]\n",
      " [ 2.39638295e+00  1.25807095e+00]\n",
      " [ 2.08581142e+00  1.40600152e+00]\n",
      " [ 2.27488837e+00 -2.12104351e-04]\n",
      " [ 2.36994004e+00  1.50161890e+00]\n",
      " [ 3.22508111e+00  5.00141347e-02]\n",
      " [ 1.17254227e+00  6.52693126e-01]\n",
      " [ 1.46244315e+00  9.14696039e-01]\n",
      " [ 1.29271518e+00  2.93863197e+00]\n",
      " [-7.99874519e-01  4.34199963e-01]\n",
      " [ 5.21342130e-01  1.53306895e+00]\n",
      " [ 1.89705769e+00  6.57764676e-01]\n",
      " [ 2.97285219e+00  1.92799772e+00]\n",
      " [ 1.99028950e+00  1.57640028e+00]\n",
      " [ 1.13558256e+00  2.80952965e-01]\n",
      " [ 1.34054148e+00  6.08098977e-01]\n",
      " [ 6.61866348e-01  2.36850097e+00]\n",
      " [ 1.21528379e+00  1.46530011e-01]\n",
      " [ 7.58909784e-01 -1.03187845e+00]\n",
      " [ 1.29425440e+00  2.47049489e+00]\n",
      " [ 1.26500894e-01  1.53916668e+00]\n",
      " [ 2.73187216e+00 -2.38348986e-01]\n",
      " [ 2.10599158e+00  2.42968958e+00]\n",
      " [-3.99039587e-01  1.38617241e+00]\n",
      " [ 1.25391254e+00  7.74253588e-01]\n",
      " [ 3.35936770e-01 -1.01976743e+00]\n",
      " [ 2.16015955e+00 -8.21484797e-01]\n",
      " [ 2.34457350e+00  2.14337401e+00]\n",
      " [ 1.06371563e+00  1.86825088e+00]\n",
      " [ 7.72774544e-01 -1.11891620e+00]\n",
      " [-3.86896098e-01  6.57845262e-02]\n",
      " [ 1.70014898e+00  1.26694158e-01]\n",
      " [-4.12704174e-01  1.84785810e+00]\n",
      " [ 9.58293018e-01 -1.23546296e+00]\n",
      " [ 1.90272754e+00 -1.44746778e-01]\n",
      " [ 1.93485776e+00 -3.88534099e-01]\n",
      " [-2.75729851e-01  1.08974358e+00]\n",
      " [ 2.21884700e+00  1.47520314e+00]\n",
      " [ 1.89812703e+00  4.16796693e-01]\n",
      " [ 7.32678157e-02 -1.67088745e+00]\n",
      " [ 1.23712895e-01 -7.51329397e-01]\n",
      " [ 2.58307659e-01  7.38543802e-01]\n",
      " [ 2.94770268e+00  1.63860499e+00]\n",
      " [ 3.71998924e+00 -1.75891925e-01]\n",
      " [ 1.95126155e+00  1.17531166e+00]\n",
      " [ 8.57662028e-01  6.89282275e-01]\n",
      " [ 3.08546350e-01 -6.77785259e-02]\n",
      " [ 1.86187609e+00  6.31763862e-01]\n",
      " [ 2.86773089e-01  2.12989720e+00]\n",
      " [ 1.95254107e+00 -4.00613659e-01]\n",
      " [ 1.96893602e+00 -2.30972443e-01]\n",
      " [ 1.09943908e+00 -4.43045056e-02]\n",
      " [ 1.36564388e+00  2.17098810e+00]\n",
      " [-2.79432958e-02 -7.13890358e-01]\n",
      " [ 4.61422510e-01  1.06479328e+00]\n",
      " [ 3.32847028e+00  7.86137819e-01]\n",
      " [-5.19603791e-02  1.19796920e+00]\n",
      " [ 1.43261009e+00  1.27962449e+00]\n",
      " [ 5.13558544e-01  9.58215583e-01]\n",
      " [ 1.30723210e+00 -2.03225813e-01]\n",
      " [-3.01069530e-01  5.95246006e-02]\n",
      " [-7.08714607e-03 -3.26921547e-01]\n",
      " [ 9.82519045e-01  1.02953246e+00]\n",
      " [ 1.92927905e+00  1.36557718e+00]\n",
      " [ 1.27869039e+00  8.13071139e-01]\n",
      " [ 1.34099827e+00  1.08969856e+00]\n",
      " [ 1.32593906e+00 -1.02771046e+00]\n",
      " [-6.35815365e-01 -3.79175331e-01]\n",
      " [ 1.64156019e+00 -3.04649028e-01]\n",
      " [ 3.50713689e+00 -1.88371828e+00]\n",
      " [-1.00853645e+00 -1.09100327e+00]\n",
      " [ 1.05063806e+00 -2.12522998e+00]\n",
      " [-1.04191862e-01 -4.16638725e-01]\n",
      " [ 1.93393032e+00  8.38549415e-01]\n",
      " [ 1.89767004e+00  1.31149358e+00]\n",
      " [ 2.89005923e+00  1.21860739e+00]\n",
      " [ 1.13199964e+00  1.28426048e+00]\n",
      " [ 1.19174278e-01 -6.52624881e-01]\n",
      " [-9.45599557e-01  2.79469360e-01]\n",
      " [ 1.46236126e+00  4.76352408e-01]\n",
      " [-3.17488364e-01  9.53551554e-01]\n",
      " [-1.30661326e+00  1.36405346e+00]\n",
      " [ 6.78223316e-01 -3.87829706e-01]\n",
      " [ 1.70668098e+00  1.68692070e+00]\n",
      " [ 1.69257895e+00  9.59396357e-01]\n",
      " [ 9.56283412e-01  1.00368454e+00]\n",
      " [ 1.98636895e+00  9.53216551e-01]\n",
      " [ 1.34651673e+00 -6.82670873e-02]\n",
      " [ 9.44704717e-01  1.31107171e+00]\n",
      " [ 1.61360263e+00  1.82105751e+00]\n",
      " [-2.28570342e-01  2.22833311e+00]\n",
      " [ 3.74456336e-01  4.97598811e-01]\n",
      " [ 2.96235015e-01  5.50457828e-02]\n",
      " [ 1.37942078e+00 -8.88822821e-01]]\n"
     ]
    }
   ],
   "source": [
    "print(dist_01)"
   ]
  },
  {
   "cell_type": "markdown",
   "metadata": {},
   "source": [
    "## Plotting the created Data "
   ]
  },
  {
   "cell_type": "markdown",
   "metadata": {},
   "source": [
    "What does the data look like ? Notice the 2 unique clusters being formed."
   ]
  },
  {
   "cell_type": "code",
   "execution_count": 13,
   "metadata": {},
   "outputs": [
    {
     "data": {
      "image/png": "[encoded data removed]",
      "text/plain": [
       "<Figure size 432x288 with 1 Axes>"
      ]
     },
     "metadata": {
      "needs_background": "light"
     },
     "output_type": "display_data"
    }
   ],
   "source": [
    "plt.figure(0)\n",
    "plt.xlim(-5, 10)\n",
    "plt.ylim(-5, 10)\n",
    "\n",
    "plt.scatter(dist_01[:, 0], dist_01[:, 1])\n",
    "plt.scatter(dist_02[:, 0], dist_02[:, 1])#, color='red')\n",
    "plt.show()"
   ]
  },
  {
   "cell_type": "markdown",
   "metadata": {},
   "source": [
    "Let us now represent it in a tabular way. We will have dist_01 getting label 1."
   ]
  },
  {
   "cell_type": "code",
   "execution_count": 11,
   "metadata": {},
   "outputs": [
    {
     "name": "stdout",
     "output_type": "stream",
     "text": [
      "(1000, 3)\n",
      "[2.56019937 2.77250968 0.5       ]\n"
     ]
    }
   ],
   "source": [
    "r = dist_01.shape[0] + dist_02.shape[0]\n",
    "c = dist_01.shape[1] + 1\n",
    "data = np.zeros((r, c))\n",
    "print(data.shape)\n",
    "\n",
    "data[:dist_01.shape[0], :2] = dist_01\n",
    "data[dist_01.shape[0]:, :2] = dist_02\n",
    "data[dist_01.shape[0]:, -1] = 1.0 # Give label=1 to half the distribution\n",
    "\n",
    "print(data.mean(axis=0))"
   ]
  },
  {
   "cell_type": "code",
   "execution_count": 12,
   "metadata": {},
   "outputs": [
    {
     "name": "stdout",
     "output_type": "stream",
     "text": [
      "1000\n"
     ]
    }
   ],
   "source": [
    "print(r)"
   ]
  },
  {
   "cell_type": "markdown",
   "metadata": {},
   "source": [
    "Now shuffle the data and check by printing the first 10 rows."
   ]
  },
  {
   "cell_type": "code",
   "execution_count": 13,
   "metadata": {
    "scrolled": true
   },
   "outputs": [
    {
     "name": "stdout",
     "output_type": "stream",
     "text": [
      "[[ 4.64969687  4.44744885  1.        ]\n",
      " [ 3.91920563  3.36659347  1.        ]\n",
      " [ 2.59882315  2.68301683  1.        ]\n",
      " [ 3.22067576  3.55652869  1.        ]\n",
      " [ 2.67754022  4.71578191  1.        ]\n",
      " [-0.04033026 -0.06524741  0.        ]\n",
      " [ 1.03543757  1.00117375  0.        ]\n",
      " [ 4.48238508  4.49709241  1.        ]\n",
      " [ 1.9902895   1.57640028  0.        ]\n",
      " [ 4.28728245  5.30332742  1.        ]]\n"
     ]
    }
   ],
   "source": [
    "np.random.shuffle(data)\n",
    "print(data[:10])"
   ]
  },
  {
   "cell_type": "markdown",
   "metadata": {},
   "source": [
    "**Implementation.** Next, we implement our KNN algorithm. There are many ways to do this, but a basic approach will require a pairwise distance measure for instances, and a way to take a \"training\" dataset of classified instances and make a prediction for a \"test\" data instance. Here is a top-level outline:"
   ]
  },
  {
   "cell_type": "code",
   "execution_count": 28,
   "metadata": {
    "collapsed": true
   },
   "outputs": [],
   "source": [
    "def distance(x1, x2):\n",
    "    return np.sqrt((x1 - x2)**2).sum()\n",
    "    \n",
    "def knn(X_train, y_train, xt, k=7):\n",
    "    \"\"\"\n",
    "    xt is in\n",
    "    \"\"\"\n",
    "    vals = []\n",
    "    \n",
    "    # Go through the number of samples\n",
    "    for ix in range(X_train.shape[0]):\n",
    "        d = distance(X_train[ix], xt)\n",
    "        # Append the distance and the corresponding label\n",
    "        vals.append([d, y_train[ix]])\n",
    "\n",
    "    # Sort the labels by distance\n",
    "    sorted_labels = sorted(vals, key=lambda z:z[0])\n",
    "    # Extract the k nearest neighbours, we only need the label (-1)\n",
    "    neighbours = np.asarray(sorted_labels)[:k, -1]\n",
    "    \n",
    "    # Of the 7 nearest neighbours, find the most \n",
    "    freq = np.unique(neighbours, return_counts=True)\n",
    "    \n",
    "    # Return the category of the majority label\n",
    "    return freq[0][freq[1].argmax()]"
   ]
  },
  {
   "cell_type": "code",
   "execution_count": 29,
   "metadata": {},
   "outputs": [
    {
     "name": "stdout",
     "output_type": "stream",
     "text": [
      "0.0\n",
      "3.0\n"
     ]
    }
   ],
   "source": [
    "x1 = np.array([1,2,3])\n",
    "x2 = np.array([1,2,3])\n",
    "\n",
    "print(distance(x1, x2))\n",
    "\n",
    "x3 = np.array([2,3,4])\n",
    "print(distance(x1, x3))\n"
   ]
  },
  {
   "cell_type": "markdown",
   "metadata": {},
   "source": [
    "Now check to see if we can make a prediction."
   ]
  },
  {
   "cell_type": "code",
   "execution_count": 30,
   "metadata": {},
   "outputs": [
    {
     "name": "stdout",
     "output_type": "stream",
     "text": [
      "0.0\n"
     ]
    }
   ],
   "source": [
    "test_point = np.array([8, -4])\n",
    "# Un-comment the line below and check if it comes out as 0.0  \n",
    "print(knn(data[:, :2], data[:, -1], test_point))"
   ]
  },
  {
   "cell_type": "markdown",
   "metadata": {},
   "source": [
    "## Create a train and test split of the data"
   ]
  },
  {
   "cell_type": "code",
   "execution_count": 31,
   "metadata": {},
   "outputs": [
    {
     "name": "stdout",
     "output_type": "stream",
     "text": [
      "(750, 2) (750,)\n",
      "(250, 2) (250,)\n"
     ]
    }
   ],
   "source": [
    "np.random.shuffle(data)\n",
    "split = int(0.75 * data.shape[0])\n",
    "# print split\n",
    "train_data_X = data[:split, :2]\n",
    "train_data_y = data[:split, -1]\n",
    "test_data_X = data[split:, :2]\n",
    "test_data_y = data[split:, -1]\n",
    "\n",
    "print(train_data_X.shape, train_data_y.shape)\n",
    "print(test_data_X.shape, test_data_y.shape)"
   ]
  },
  {
   "cell_type": "markdown",
   "metadata": {},
   "source": [
    "**Implementation.** Next we need to implement some way to run our KNN classifier on all the test data and get the results. "
   ]
  },
  {
   "cell_type": "code",
   "execution_count": 33,
   "metadata": {},
   "outputs": [
    {
     "name": "stdout",
     "output_type": "stream",
     "text": [
      "98.4\n"
     ]
    }
   ],
   "source": [
    "def get_acc(kx):\n",
    "    preds = []\n",
    "    \n",
    "    # Go through each row\n",
    "    for ix in range(test_data_X.shape[0]):\n",
    "        # These are the predicted values\n",
    "        preds.append(knn(train_data_X, train_data_y, test_data_X[ix], k=kx))\n",
    "    preds = np.asarray(preds)\n",
    "    \n",
    "    return 100*float((test_data_y == preds).sum()/preds.shape[0])\n",
    "    \n",
    "\n",
    "print(get_acc(7))"
   ]
  },
  {
   "cell_type": "markdown",
   "metadata": {},
   "source": [
    "What accuracy did you get ? You should get around 99 percent on this dataset. "
   ]
  },
  {
   "cell_type": "markdown",
   "metadata": {},
   "source": [
    "Let's try different values of K."
   ]
  },
  {
   "cell_type": "code",
   "execution_count": 20,
   "metadata": {},
   "outputs": [
    {
     "name": "stdout",
     "output_type": "stream",
     "text": [
      "k: 2 | Acc: None\n",
      "k: 3 | Acc: None\n",
      "k: 4 | Acc: None\n",
      "k: 5 | Acc: None\n",
      "k: 6 | Acc: None\n",
      "k: 7 | Acc: None\n",
      "k: 8 | Acc: None\n",
      "k: 9 | Acc: None\n",
      "k: 10 | Acc: None\n",
      "k: 11 | Acc: None\n",
      "k: 12 | Acc: None\n",
      "k: 13 | Acc: None\n",
      "k: 14 | Acc: None\n",
      "k: 15 | Acc: None\n",
      "k: 16 | Acc: None\n",
      "k: 17 | Acc: None\n",
      "k: 18 | Acc: None\n",
      "k: 19 | Acc: None\n"
     ]
    }
   ],
   "source": [
    "for ix in range(2, 20):\n",
    "    print (\"k:\", ix, \"| Acc:\", get_acc(ix))"
   ]
  },
  {
   "cell_type": "markdown",
   "metadata": {},
   "source": [
    "## Now let's try real data : MNIST"
   ]
  },
  {
   "cell_type": "code",
   "execution_count": 21,
   "metadata": {
    "collapsed": true
   },
   "outputs": [],
   "source": [
    "import pandas as pd\n",
    "import datetime"
   ]
  },
  {
   "cell_type": "markdown",
   "metadata": {},
   "source": [
    "Of course, MNIST is image data, but here we are using a CSV version where we can view the pixels as numbers (each row has the pixel data for an image of a digit, and the first column is the class of the digit, i.e., 0-9)."
   ]
  },
  {
   "cell_type": "code",
   "execution_count": 27,
   "metadata": {},
   "outputs": [
    {
     "data": {
      "text/html": [
       "<div>\n",
       "<style scoped>\n",
       "    .dataframe tbody tr th:only-of-type {\n",
       "        vertical-align: middle;\n",
       "    }\n",
       "\n",
       "    .dataframe tbody tr th {\n",
       "        vertical-align: top;\n",
       "    }\n",
       "\n",
       "    .dataframe thead th {\n",
       "        text-align: right;\n",
       "    }\n",
       "</style>\n",
       "<table border=\"1\" class=\"dataframe\">\n",
       "  <thead>\n",
       "    <tr style=\"text-align: right;\">\n",
       "      <th></th>\n",
       "      <th>5</th>\n",
       "      <th>0</th>\n",
       "      <th>0.1</th>\n",
       "      <th>0.2</th>\n",
       "      <th>0.3</th>\n",
       "      <th>0.4</th>\n",
       "      <th>0.5</th>\n",
       "      <th>0.6</th>\n",
       "      <th>0.7</th>\n",
       "      <th>0.8</th>\n",
       "      <th>...</th>\n",
       "      <th>0.608</th>\n",
       "      <th>0.609</th>\n",
       "      <th>0.610</th>\n",
       "      <th>0.611</th>\n",
       "      <th>0.612</th>\n",
       "      <th>0.613</th>\n",
       "      <th>0.614</th>\n",
       "      <th>0.615</th>\n",
       "      <th>0.616</th>\n",
       "      <th>0.617</th>\n",
       "    </tr>\n",
       "  </thead>\n",
       "  <tbody>\n",
       "    <tr>\n",
       "      <th>0</th>\n",
       "      <td>0</td>\n",
       "      <td>0</td>\n",
       "      <td>0</td>\n",
       "      <td>0</td>\n",
       "      <td>0</td>\n",
       "      <td>0</td>\n",
       "      <td>0</td>\n",
       "      <td>0</td>\n",
       "      <td>0</td>\n",
       "      <td>0</td>\n",
       "      <td>...</td>\n",
       "      <td>0</td>\n",
       "      <td>0</td>\n",
       "      <td>0</td>\n",
       "      <td>0</td>\n",
       "      <td>0</td>\n",
       "      <td>0</td>\n",
       "      <td>0</td>\n",
       "      <td>0</td>\n",
       "      <td>0</td>\n",
       "      <td>0</td>\n",
       "    </tr>\n",
       "    <tr>\n",
       "      <th>1</th>\n",
       "      <td>4</td>\n",
       "      <td>0</td>\n",
       "      <td>0</td>\n",
       "      <td>0</td>\n",
       "      <td>0</td>\n",
       "      <td>0</td>\n",
       "      <td>0</td>\n",
       "      <td>0</td>\n",
       "      <td>0</td>\n",
       "      <td>0</td>\n",
       "      <td>...</td>\n",
       "      <td>0</td>\n",
       "      <td>0</td>\n",
       "      <td>0</td>\n",
       "      <td>0</td>\n",
       "      <td>0</td>\n",
       "      <td>0</td>\n",
       "      <td>0</td>\n",
       "      <td>0</td>\n",
       "      <td>0</td>\n",
       "      <td>0</td>\n",
       "    </tr>\n",
       "    <tr>\n",
       "      <th>2</th>\n",
       "      <td>1</td>\n",
       "      <td>0</td>\n",
       "      <td>0</td>\n",
       "      <td>0</td>\n",
       "      <td>0</td>\n",
       "      <td>0</td>\n",
       "      <td>0</td>\n",
       "      <td>0</td>\n",
       "      <td>0</td>\n",
       "      <td>0</td>\n",
       "      <td>...</td>\n",
       "      <td>0</td>\n",
       "      <td>0</td>\n",
       "      <td>0</td>\n",
       "      <td>0</td>\n",
       "      <td>0</td>\n",
       "      <td>0</td>\n",
       "      <td>0</td>\n",
       "      <td>0</td>\n",
       "      <td>0</td>\n",
       "      <td>0</td>\n",
       "    </tr>\n",
       "    <tr>\n",
       "      <th>3</th>\n",
       "      <td>9</td>\n",
       "      <td>0</td>\n",
       "      <td>0</td>\n",
       "      <td>0</td>\n",
       "      <td>0</td>\n",
       "      <td>0</td>\n",
       "      <td>0</td>\n",
       "      <td>0</td>\n",
       "      <td>0</td>\n",
       "      <td>0</td>\n",
       "      <td>...</td>\n",
       "      <td>0</td>\n",
       "      <td>0</td>\n",
       "      <td>0</td>\n",
       "      <td>0</td>\n",
       "      <td>0</td>\n",
       "      <td>0</td>\n",
       "      <td>0</td>\n",
       "      <td>0</td>\n",
       "      <td>0</td>\n",
       "      <td>0</td>\n",
       "    </tr>\n",
       "    <tr>\n",
       "      <th>4</th>\n",
       "      <td>2</td>\n",
       "      <td>0</td>\n",
       "      <td>0</td>\n",
       "      <td>0</td>\n",
       "      <td>0</td>\n",
       "      <td>0</td>\n",
       "      <td>0</td>\n",
       "      <td>0</td>\n",
       "      <td>0</td>\n",
       "      <td>0</td>\n",
       "      <td>...</td>\n",
       "      <td>0</td>\n",
       "      <td>0</td>\n",
       "      <td>0</td>\n",
       "      <td>0</td>\n",
       "      <td>0</td>\n",
       "      <td>0</td>\n",
       "      <td>0</td>\n",
       "      <td>0</td>\n",
       "      <td>0</td>\n",
       "      <td>0</td>\n",
       "    </tr>\n",
       "  </tbody>\n",
       "</table>\n",
       "<p>5 rows × 785 columns</p>\n",
       "</div>"
      ],
      "text/plain": [
       "   5  0  0.1  0.2  0.3  0.4  0.5  0.6  0.7  0.8  ...    0.608  0.609  0.610  \\\n",
       "0  0  0    0    0    0    0    0    0    0    0  ...        0      0      0   \n",
       "1  4  0    0    0    0    0    0    0    0    0  ...        0      0      0   \n",
       "2  1  0    0    0    0    0    0    0    0    0  ...        0      0      0   \n",
       "3  9  0    0    0    0    0    0    0    0    0  ...        0      0      0   \n",
       "4  2  0    0    0    0    0    0    0    0    0  ...        0      0      0   \n",
       "\n",
       "   0.611  0.612  0.613  0.614  0.615  0.616  0.617  \n",
       "0      0      0      0      0      0      0      0  \n",
       "1      0      0      0      0      0      0      0  \n",
       "2      0      0      0      0      0      0      0  \n",
       "3      0      0      0      0      0      0      0  \n",
       "4      0      0      0      0      0      0      0  \n",
       "\n",
       "[5 rows x 785 columns]"
      ]
     },
     "execution_count": 27,
     "metadata": {},
     "output_type": "execute_result"
    }
   ],
   "source": [
    "df = pd.read_csv('train.csv')\n",
    "df.head()"
   ]
  },
  {
   "cell_type": "markdown",
   "metadata": {},
   "source": [
    "Since the dataset is quite big, we will just use a subset."
   ]
  },
  {
   "cell_type": "code",
   "execution_count": 28,
   "metadata": {},
   "outputs": [
    {
     "name": "stdout",
     "output_type": "stream",
     "text": [
      "(2000, 785)\n"
     ]
    }
   ],
   "source": [
    "data = df.values[:2000]\n",
    "print (data.shape)"
   ]
  },
  {
   "cell_type": "markdown",
   "metadata": {},
   "source": [
    "Make a train/test split of the data."
   ]
  },
  {
   "cell_type": "code",
   "execution_count": 29,
   "metadata": {},
   "outputs": [
    {
     "name": "stdout",
     "output_type": "stream",
     "text": [
      "(1600, 784) (1600,)\n",
      "(400, 784) (400,)\n"
     ]
    }
   ],
   "source": [
    "split = int(0.8 * data.shape[0])\n",
    "\n",
    "X_train = data[:split, 1:]\n",
    "X_test = data[split:, 1:]\n",
    "\n",
    "y_train = data[:split, 0]\n",
    "y_test = data[split:, 0]\n",
    "\n",
    "print (X_train.shape, y_train.shape)\n",
    "print (X_test.shape, y_test.shape)"
   ]
  },
  {
   "cell_type": "markdown",
   "metadata": {},
   "source": [
    "Let us just check that our data really does represent images."
   ]
  },
  {
   "cell_type": "code",
   "execution_count": 34,
   "metadata": {},
   "outputs": [
    {
     "name": "stdout",
     "output_type": "stream",
     "text": [
      "4\n"
     ]
    },
    {
     "data": {
      "image/png": "[encoded data removed]",
      "text/plain": [
       "<Figure size 432x288 with 1 Axes>"
      ]
     },
     "metadata": {
      "needs_background": "light"
     },
     "output_type": "display_data"
    }
   ],
   "source": [
    "plt.figure(0)\n",
    "plt.imshow(X_train[91].reshape((28, 28)), cmap='gray', interpolation='none')\n",
    "print (y_train[91])\n",
    "plt.show()"
   ]
  },
  {
   "cell_type": "markdown",
   "metadata": {},
   "source": [
    "**Implementation.** Now code another ```get_acc()``` and try different values of K on our dataset."
   ]
  },
  {
   "cell_type": "code",
   "execution_count": 35,
   "metadata": {
    "collapsed": true
   },
   "outputs": [],
   "source": [
    "def get_acc(kx):\n",
    "    #TODO\n",
    "    pass\n",
    "\n",
    "#print (get_acc(kx=))"
   ]
  },
  {
   "cell_type": "code",
   "execution_count": null,
   "metadata": {
    "collapsed": true
   },
   "outputs": [],
   "source": []
  }
 ],
 "metadata": {
  "anaconda-cloud": {},
  "kernelspec": {
   "display_name": "Python 3",
   "language": "python",
   "name": "python3"
  },
  "language_info": {
   "codemirror_mode": {
    "name": "ipython",
    "version": 3
   },
   "file_extension": ".py",
   "mimetype": "text/x-python",
   "name": "python",
   "nbconvert_exporter": "python",
   "pygments_lexer": "ipython3",
   "version": "3.6.1"
  }
 },
 "nbformat": 4,
 "nbformat_minor": 1
}
